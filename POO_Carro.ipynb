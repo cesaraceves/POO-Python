{
 "metadata": {
  "language_info": {
   "codemirror_mode": {
    "name": "ipython",
    "version": 3
   },
   "file_extension": ".py",
   "mimetype": "text/x-python",
   "name": "python",
   "nbconvert_exporter": "python",
   "pygments_lexer": "ipython3",
   "version": "3.9.1"
  },
  "orig_nbformat": 2,
  "kernelspec": {
   "name": "python391jvsc74a57bd092a461d01a427e9db73371be4c2319729cbaf77cfae486269f163b6384719eed",
   "display_name": "Python 3.9.1 64-bit"
  },
  "metadata": {
   "interpreter": {
    "hash": "564b879ed96319b2d3bdf289036559bd97cfb3bb6a1a940f1b6a62560ae7fa39"
   }
  }
 },
 "nbformat": 4,
 "nbformat_minor": 2,
 "cells": [
  {
   "cell_type": "code",
   "execution_count": 5,
   "metadata": {},
   "outputs": [
    {
     "output_type": "stream",
     "name": "stdout",
     "text": [
      "Ingrese el modelo de carro\n",
      "Ingresa la marca del carro\n",
      "Ingresa el color del carro\n",
      "\n",
      "Tu modelo es: Jetta\n",
      "Marca: Volkswagen\n",
      "Color:Blanco\n"
     ]
    }
   ],
   "source": [
    "class Carro():\n",
    "    def __init__ (self,modelo,marca,color):\n",
    "        self.modelo = modelo\n",
    "        self.marca = marca\n",
    "        self.color = color\n",
    "\n",
    "    def imprimir(self):\n",
    "        imprmr = (f\"\\nTu modelo es: {modelo}\\nMarca: {marca}\\nColor: {color}\")\n",
    "        print(imprmr)\n",
    "\n",
    "\n",
    "          \n",
    "print(\"Ingrese el modelo de carro\")\n",
    "modelo = input()\n",
    "print(\"Ingresa la marca del carro\")\n",
    "marca = input()\n",
    "print(\"Ingresa el color del carro\")\n",
    "color = input()\n",
    "\n",
    "carro1 = Carro(modelo,marca,color)\n",
    "carro1.imprimir()\n",
    "\n",
    "    \n",
    "\n",
    "\n"
   ]
  },
  {
   "cell_type": "code",
   "execution_count": null,
   "metadata": {},
   "outputs": [],
   "source": []
  }
 ]
}